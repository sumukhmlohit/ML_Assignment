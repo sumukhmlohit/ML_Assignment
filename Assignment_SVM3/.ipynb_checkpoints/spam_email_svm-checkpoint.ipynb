{
 "cells": [
  {
   "cell_type": "code",
   "execution_count": 1,
   "metadata": {},
   "outputs": [],
   "source": [
    "import pandas as pd\n",
    "import numpy as np\n",
    "import matplotlib.pyplot as plt\n",
    "%matplotlib inline"
   ]
  },
  {
   "cell_type": "code",
   "execution_count": 2,
   "metadata": {},
   "outputs": [],
   "source": [
    "spammail=pd.read_csv('spambase.csv')"
   ]
  },
  {
   "cell_type": "code",
   "execution_count": 3,
   "metadata": {},
   "outputs": [],
   "source": [
    "X=spammail.drop('spam',axis=1)"
   ]
  },
  {
   "cell_type": "code",
   "execution_count": 4,
   "metadata": {},
   "outputs": [],
   "source": [
    "y=spammail['spam']"
   ]
  },
  {
   "cell_type": "code",
   "execution_count": 5,
   "metadata": {},
   "outputs": [],
   "source": [
    "from sklearn.model_selection import train_test_split\n",
    "X_train,X_test,y_train,y_test=train_test_split(X,y,test_size=0.20)"
   ]
  },
  {
   "cell_type": "code",
   "execution_count": 6,
   "metadata": {},
   "outputs": [],
   "source": [
    "#Feature scaling-standardizing features by removing mean and scaling to unit variance\n",
    "from sklearn.preprocessing import StandardScaler\n",
    "scaler_x=StandardScaler()\n",
    "X_Train=scaler_x.fit_transform(X_train)\n",
    "X_Test=scaler_x.transform(X_test)"
   ]
  },
  {
   "cell_type": "code",
   "execution_count": 15,
   "metadata": {},
   "outputs": [],
   "source": [
    "tuned_parameters_quad = [{'kernel':['poly'],'degree':[2],'C':[1,10,100,1000,10000,30000,50000]}]\n",
    "tuned_parameters_linear=[{'kernel':['linear'],'C':[1,2]}]\n",
    "tuned_parameters_rbf=[{'kernel':['rbf'],'C':[1,10,100,1000,10000]}]"
   ]
  },
  {
   "cell_type": "code",
   "execution_count": 8,
   "metadata": {},
   "outputs": [],
   "source": [
    "#SVM model to predict if a mail is spam or non spam\n",
    "#In order to vary regulation parameter C and decide an optimal value, we are using an exhaustive grid search\n",
    "#C has been given the values of 1,10,100,1000 and 10000\n",
    "\n",
    "def svmmodel(tuned_parameters):\n",
    "  from sklearn.svm import SVC\n",
    "  from sklearn.model_selection import GridSearchCV\n",
    "  from sklearn.metrics import confusion_matrix\n",
    "  svclassifier = GridSearchCV(SVC(), param_grid=tuned_parameters, scoring='accuracy',verbose=10,n_jobs=-1)\n",
    "  svclassifier.fit(X_train, y_train)\n",
    "  print('Scores:')\n",
    "  means = svclassifier.cv_results_['mean_test_score']\n",
    "  stds = svclassifier.cv_results_['std_test_score']\n",
    "  for mean, std, params in zip(means, stds, svclassifier.cv_results_['params']):\n",
    "    print(\"%0.3f (+/-%0.03f) for %r\" % (mean, std * 2, params))\n",
    "    print()\n",
    "  print('Best score:')\n",
    "  print(svclassifier.best_params_)\n",
    "  y_true_test, y_predtest = y_test, svclassifier.predict(X_test)\n",
    "  y_true_train, y_predtrain = y_train, svclassifier.predict(X_train)\n",
    "  cfmatrixtrain=confusion_matrix(y_true_train,y_predtrain)\n",
    "  cfmatrixtest=confusion_matrix(y_true_test,y_predtest)\n",
    "  cfmetrics(cfmatrixtrain,cfmatrixtest)"
   ]
  },
  {
   "cell_type": "code",
   "execution_count": 9,
   "metadata": {},
   "outputs": [],
   "source": [
    "def cfmetrics(cfmatrixtrain,cfmatrixtest):  \n",
    "  print('confusion matrix for training data:')\n",
    "  print(cfmatrixtrain)\n",
    "  TN=cfmatrixtrain[0][0]\n",
    "  FN=cfmatrixtrain[1][0]\n",
    "  TP=cfmatrixtrain[1][1]\n",
    "  FP=cfmatrixtrain[0][1]\n",
    "  accuracy_train=(TN+TP)/(TN+TP+FN+FP)\n",
    "  precision_train=(TP)/(TP+FP)\n",
    "  recall_train=TP/(TP+FN)\n",
    "  print('Training accuracy')\n",
    "  print(accuracy_train)\n",
    "  print('Training precision')\n",
    "  print(precision_train)\n",
    "  print('Training recall')\n",
    "  print(recall_train)\n",
    "  print('confusion matrix for test data:')\n",
    "  print(cfmatrixtest)\n",
    "  TN=cfmatrixtest[0][0]\n",
    "  FN=cfmatrixtest[1][0]\n",
    "  TP=cfmatrixtest[1][1]\n",
    "  FP=cfmatrixtest[0][1]\n",
    "  accuracy_test=(TN+TP)/(TN+TP+FN+FP)\n",
    "  precision_test=(TP)/(TP+FP)\n",
    "  recall_test=TP/(TP+FN)\n",
    "  print('Test accuracy')\n",
    "  print(accuracy_test)\n",
    "  print('Test precision')\n",
    "  print(precision_test)\n",
    "  print('Test recall')\n",
    "  print(recall_test)"
   ]
  },
  {
   "cell_type": "code",
   "execution_count": 12,
   "metadata": {
    "scrolled": true
   },
   "outputs": [
    {
     "name": "stdout",
     "output_type": "stream",
     "text": [
      "Fitting 5 folds for each of 2 candidates, totalling 10 fits\n"
     ]
    },
    {
     "name": "stderr",
     "output_type": "stream",
     "text": [
      "[Parallel(n_jobs=-1)]: Using backend LokyBackend with 4 concurrent workers.\n",
      "[Parallel(n_jobs=-1)]: Done   5 out of  10 | elapsed: 32.1min remaining: 32.1min\n",
      "[Parallel(n_jobs=-1)]: Done   7 out of  10 | elapsed: 54.8min remaining: 23.5min\n",
      "[Parallel(n_jobs=-1)]: Done  10 out of  10 | elapsed: 62.7min finished\n"
     ]
    },
    {
     "name": "stdout",
     "output_type": "stream",
     "text": [
      "Scores:\n",
      "0.927 (+/-0.024) for {'C': 1, 'kernel': 'linear'}\n",
      "\n",
      "0.926 (+/-0.022) for {'C': 2, 'kernel': 'linear'}\n",
      "\n",
      "Best score:\n",
      "{'C': 1, 'kernel': 'linear'}\n",
      "confusion matrix for traing data:\n",
      "[[2122  106]\n",
      " [ 142 1310]]\n",
      "Training accuracy\n",
      "0.9326086956521739\n",
      "Training precision\n",
      "0.9251412429378532\n",
      "Training recall\n",
      "0.9022038567493113\n",
      "confusion matrix for traing data:\n",
      "[[535  25]\n",
      " [ 34 327]]\n",
      "Test accuracy\n",
      "0.9359391965255157\n",
      "Test precision\n",
      "0.9289772727272727\n",
      "Test recall\n",
      "0.9058171745152355\n"
     ]
    }
   ],
   "source": [
    "#Linear kernel function for SVM\n",
    "svmmodel(tuned_parameters_linear)"
   ]
  },
  {
   "cell_type": "code",
   "execution_count": 16,
   "metadata": {},
   "outputs": [
    {
     "name": "stdout",
     "output_type": "stream",
     "text": [
      "Fitting 5 folds for each of 7 candidates, totalling 35 fits\n"
     ]
    },
    {
     "name": "stderr",
     "output_type": "stream",
     "text": [
      "[Parallel(n_jobs=-1)]: Using backend LokyBackend with 4 concurrent workers.\n",
      "[Parallel(n_jobs=-1)]: Done   5 tasks      | elapsed:   16.0s\n",
      "[Parallel(n_jobs=-1)]: Done  10 tasks      | elapsed:   34.3s\n",
      "[Parallel(n_jobs=-1)]: Done  17 tasks      | elapsed:  1.4min\n",
      "[Parallel(n_jobs=-1)]: Done  24 tasks      | elapsed:  4.1min\n",
      "[Parallel(n_jobs=-1)]: Done  32 out of  35 | elapsed: 15.7min remaining:  1.5min\n",
      "[Parallel(n_jobs=-1)]: Done  35 out of  35 | elapsed: 19.1min finished\n"
     ]
    },
    {
     "name": "stdout",
     "output_type": "stream",
     "text": [
      "Scores:\n",
      "0.671 (+/-0.023) for {'C': 1, 'degree': 2, 'kernel': 'poly'}\n",
      "\n",
      "0.687 (+/-0.023) for {'C': 10, 'degree': 2, 'kernel': 'poly'}\n",
      "\n",
      "0.709 (+/-0.030) for {'C': 100, 'degree': 2, 'kernel': 'poly'}\n",
      "\n",
      "0.771 (+/-0.020) for {'C': 1000, 'degree': 2, 'kernel': 'poly'}\n",
      "\n",
      "0.833 (+/-0.019) for {'C': 10000, 'degree': 2, 'kernel': 'poly'}\n",
      "\n",
      "0.862 (+/-0.026) for {'C': 30000, 'degree': 2, 'kernel': 'poly'}\n",
      "\n",
      "0.874 (+/-0.027) for {'C': 50000, 'degree': 2, 'kernel': 'poly'}\n",
      "\n",
      "Best score:\n",
      "{'C': 50000, 'degree': 2, 'kernel': 'poly'}\n",
      "confusion matrix for traing data:\n",
      "[[2182   64]\n",
      " [ 368 1066]]\n",
      "Training accuracy\n",
      "0.8826086956521739\n",
      "Training precision\n",
      "0.9433628318584071\n",
      "Training recall\n",
      "0.7433751743375174\n",
      "confusion matrix for traing data:\n",
      "[[529  13]\n",
      " [ 98 281]]\n",
      "Test accuracy\n",
      "0.8794788273615635\n",
      "Test precision\n",
      "0.95578231292517\n",
      "Test recall\n",
      "0.741424802110818\n"
     ]
    }
   ],
   "source": [
    "#Quadratic kernel function for SVM\n",
    "svmmodel(tuned_parameters_quad)"
   ]
  },
  {
   "cell_type": "code",
   "execution_count": 14,
   "metadata": {},
   "outputs": [
    {
     "name": "stdout",
     "output_type": "stream",
     "text": [
      "Fitting 5 folds for each of 5 candidates, totalling 25 fits\n"
     ]
    },
    {
     "name": "stderr",
     "output_type": "stream",
     "text": [
      "[Parallel(n_jobs=-1)]: Using backend LokyBackend with 4 concurrent workers.\n",
      "[Parallel(n_jobs=-1)]: Done   5 tasks      | elapsed:    3.9s\n",
      "[Parallel(n_jobs=-1)]: Done  10 tasks      | elapsed:    5.9s\n",
      "[Parallel(n_jobs=-1)]: Done  17 tasks      | elapsed:    9.9s\n",
      "[Parallel(n_jobs=-1)]: Done  21 out of  25 | elapsed:   13.3s remaining:    2.5s\n",
      "[Parallel(n_jobs=-1)]: Done  25 out of  25 | elapsed:   16.3s finished\n"
     ]
    },
    {
     "name": "stdout",
     "output_type": "stream",
     "text": [
      "Scores:\n",
      "0.707 (+/-0.022) for {'C': 1, 'kernel': 'rbf'}\n",
      "\n",
      "0.734 (+/-0.015) for {'C': 10, 'kernel': 'rbf'}\n",
      "\n",
      "0.821 (+/-0.015) for {'C': 100, 'kernel': 'rbf'}\n",
      "\n",
      "0.902 (+/-0.011) for {'C': 1000, 'kernel': 'rbf'}\n",
      "\n",
      "0.926 (+/-0.021) for {'C': 10000, 'kernel': 'rbf'}\n",
      "\n",
      "Best score:\n",
      "{'C': 10000, 'kernel': 'rbf'}\n",
      "confusion matrix for traing data:\n",
      "[[2122  106]\n",
      " [ 137 1315]]\n",
      "Training accuracy\n",
      "0.9339673913043478\n",
      "Training precision\n",
      "0.9254046446164673\n",
      "Training recall\n",
      "0.9056473829201102\n",
      "confusion matrix for traing data:\n",
      "[[535  25]\n",
      " [ 41 320]]\n",
      "Test accuracy\n",
      "0.9283387622149837\n",
      "Test precision\n",
      "0.927536231884058\n",
      "Test recall\n",
      "0.8864265927977839\n"
     ]
    }
   ],
   "source": [
    "#RBF kernel function for SVM\n",
    "svmmodel(tuned_parameters_rbf)"
   ]
  }
 ],
 "metadata": {
  "kernelspec": {
   "display_name": "Python 3",
   "language": "python",
   "name": "python3"
  },
  "language_info": {
   "codemirror_mode": {
    "name": "ipython",
    "version": 3
   },
   "file_extension": ".py",
   "mimetype": "text/x-python",
   "name": "python",
   "nbconvert_exporter": "python",
   "pygments_lexer": "ipython3",
   "version": "3.8.2"
  }
 },
 "nbformat": 4,
 "nbformat_minor": 4
}
